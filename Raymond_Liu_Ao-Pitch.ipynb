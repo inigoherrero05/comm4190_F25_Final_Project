{
 "cells": [
  {
   "cell_type": "markdown",
   "metadata": {},
   "source": [
    "# Companion.AI\n",
    "## AI Voice Companion for Senior Citizens"
   ]
  },
  {
   "cell_type": "markdown",
   "metadata": {},
   "source": [
    "---\n",
    "\n",
    "## The Loneliness Epidemic\n",
    "\n",
    "> *\"The older you get, the less friends you have\"*\n",
    "\n",
    "Maybe you get in a disagreement with a friend, you move to another country to start a career, or you simply lose touch with them. As you grow older, life sort of gets in the way of maintaining those pivotal social bonds.\n",
    "\n",
    "### But why should that be the case? \n",
    "### Why should senior citizens be OK with staying lonely?\n",
    "\n",
    "**📊 More than one third of people age 50 to 80 feel lonely, and nearly as many feel isolated, a national study shows.**"
   ]
  },
  {
   "cell_type": "markdown",
   "metadata": {},
   "source": [
    "---\n",
    "\n",
    "## Our Solution\n",
    "\n",
    "We're here to change that. With AI, we can bridge the gap between senior citizens yearning for connection and the companionship they deserve—**24/7, judgment-free, and always there**."
   ]
  },
  {
   "cell_type": "markdown",
   "metadata": {},
   "source": [
    "---\n",
    "\n",
    "## How It Works\n",
    "\n",
    "Our AI Voice Companion is more than just technology—it's a caring presence that:\n",
    "\n",
    "### 💭 Remembers\n",
    "Recalls their stories and cherished memories\n",
    "\n",
    "### 👨‍👩‍👧‍👦 Asks\n",
    "Inquires about grandchildren and loved ones\n",
    "\n",
    "### 💊 Reminds\n",
    "Helps with medication and daily routines\n",
    "\n",
    "### 👂 Listens\n",
    "Always there to hear what matters most\n",
    "\n",
    "---\n",
    "\n",
    "**⏰ Whether it's 2 PM or 2 AM, someone is always there to talk.**"
   ]
  },
  {
   "cell_type": "markdown",
   "metadata": {},
   "source": [
    "---\n",
    "\n",
    "## Join Us in Fighting the Loneliness Epidemic\n",
    "\n",
    "*Because no one should feel alone in their golden years*"
   ]
  }
 ],
 "metadata": {
  "kernelspec": {
   "display_name": "Python 3",
   "language": "python",
   "name": "python3"
  },
  "language_info": {
   "codemirror_mode": {
    "name": "ipython",
    "version": 3
   },
   "file_extension": ".py",
   "mimetype": "text/x-python",
   "name": "python",
   "nbconvert_exporter": "python",
   "pygments_lexer": "ipython3",
   "version": "3.8.0"
  }
 },
 "nbformat": 4,
 "nbformat_minor": 4
}
