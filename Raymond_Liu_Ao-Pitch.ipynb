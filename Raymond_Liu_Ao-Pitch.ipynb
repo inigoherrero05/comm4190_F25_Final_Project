<!DOCTYPE html>
<html lang="en">
<head>
    <meta charset="UTF-8">
    <meta name="viewport" content="width=device-width, initial-scale=1.0">
    <title>Companion.AI - AI Voice Companion for Senior Citizens</title>
    <style>
        * {
            margin: 0;
            padding: 0;
            box-sizing: border-box;
        }

        body {
            font-family: 'Segoe UI', Tahoma, Geneva, Verdana, sans-serif;
            line-height: 1.6;
            color: #333;
            background: linear-gradient(135deg, #667eea 0%, #764ba2 100%);
            min-height: 100vh;
            padding: 40px 20px;
        }

        .container {
            max-width: 900px;
            margin: 0 auto;
            background: white;
            border-radius: 20px;
            box-shadow: 0 20px 60px rgba(0, 0, 0, 0.3);
            overflow: hidden;
        }

        .header {
            background: linear-gradient(135deg, #667eea 0%, #764ba2 100%);
            color: white;
            padding: 60px 40px;
            text-align: center;
        }

        .logo {
            font-size: 3em;
            font-weight: bold;
            margin-bottom: 10px;
            letter-spacing: 2px;
        }

        .tagline {
            font-size: 1.3em;
            opacity: 0.95;
            font-weight: 300;
            margin-top: 10px;
        }

        .content {
            padding: 50px 40px;
        }

        .section {
            margin-bottom: 40px;
        }

        .section-title {
            font-size: 1.8em;
            color: #667eea;
            margin-bottom: 20px;
            font-weight: 600;
        }

        .problem {
            background: #fff3cd;
            border-left: 5px solid #ffc107;
            padding: 25px;
            margin: 30px 0;
            border-radius: 8px;
        }

        .stat {
            background: #f8f9fa;
            border-left: 5px solid #764ba2;
            padding: 25px;
            margin: 30px 0;
            font-size: 1.2em;
            font-weight: 500;
            border-radius: 8px;
        }

        .solution {
            background: #d4edda;
            border-left: 5px solid #28a745;
            padding: 25px;
            margin: 30px 0;
            border-radius: 8px;
        }

        .features {
            display: grid;
            grid-template-columns: repeat(auto-fit, minmax(200px, 1fr));
            gap: 20px;
            margin-top: 30px;
        }

        .feature-card {
            background: linear-gradient(135deg, #667eea 0%, #764ba2 100%);
            color: white;
            padding: 25px;
            border-radius: 12px;
            text-align: center;
            transition: transform 0.3s ease;
        }

        .feature-card:hover {
            transform: translateY(-5px);
        }

        .feature-icon {
            font-size: 2.5em;
            margin-bottom: 10px;
        }

        .feature-title {
            font-size: 1.1em;
            font-weight: 600;
            margin-bottom: 8px;
        }

        .feature-description {
            font-size: 0.95em;
            opacity: 0.9;
        }

        .quote {
            font-style: italic;
            font-size: 1.15em;
            color: #555;
            padding: 20px;
            border-left: 4px solid #667eea;
            margin: 25px 0;
            background: #f8f9fa;
            border-radius: 8px;
        }

        .cta {
            text-align: center;
            padding: 40px;
            background: linear-gradient(135deg, #667eea 0%, #764ba2 100%);
            color: white;
        }

        .cta h2 {
            font-size: 2em;
            margin-bottom: 15px;
        }

        .cta p {
            font-size: 1.2em;
            opacity: 0.95;
        }

        @media (max-width: 768px) {
            .header {
                padding: 40px 20px;
            }

            .logo {
                font-size: 2em;
            }

            .content {
                padding: 30px 20px;
            }

            .features {
                grid-template-columns: 1fr;
            }
        }
    </style>
</head>
<body>
    <div class="container">
        <div class="header">
            <div class="logo">Companion.AI</div>
            <div class="tagline">AI Voice Companion for Senior Citizens</div>
        </div>

        <div class="content">
            <div class="section">
                <h2 class="section-title">The Loneliness Epidemic</h2>
                
                <div class="quote">
                    "The older you get, the less friends you have"
                </div>

                <p style="font-size: 1.1em; margin-bottom: 20px;">
                    Maybe you get in a disagreement with a friend, you move to another country to start a career, 
                    or you simply lose touch with them. As you grow older, life sort of gets in the way of maintaining 
                    those pivotal social bonds.
                </p>

                <div class="problem">
                    <p style="font-size: 1.15em; font-weight: 500;">
                        But why should that be the case? Why should senior citizens be OK with staying lonely?
                    </p>
                </div>

                <div class="stat">
                    📊 More than one third of people age 50 to 80 feel lonely, and nearly as many feel isolated, 
                    a national study shows.
                </div>
            </div>

            <div class="section">
                <h2 class="section-title">Our Solution</h2>
                
                <div class="solution">
                    <p style="font-size: 1.15em;">
                        We're here to change that. With AI, we can bridge the gap between senior citizens yearning 
                        for connection and the companionship they deserve—<strong>24/7, judgment-free, and always there</strong>.
                    </p>
                </div>
            </div>

            <div class="section">
                <h2 class="section-title">How It Works</h2>
                
                <p style="font-size: 1.1em; margin-bottom: 30px;">
                    Our AI Voice Companion is more than just technology—it's a caring presence that:
                </p>

                <div class="features">
                    <div class="feature-card">
                        <div class="feature-icon">💭</div>
                        <div class="feature-title">Remembers</div>
                        <div class="feature-description">Recalls their stories and cherished memories</div>
                    </div>
                    <div class="feature-card">
                        <div class="feature-icon">👨‍👩‍👧‍👦</div>
                        <div class="feature-title">Asks</div>
                        <div class="feature-description">Inquires about grandchildren and loved ones</div>
                    </div>
                    <div class="feature-card">
                        <div class="feature-icon">💊</div>
                        <div class="feature-title">Reminds</div>
                        <div class="feature-description">Helps with medication and daily routines</div>
                    </div>
                    <div class="feature-card">
                        <div class="feature-icon">👂</div>
                        <div class="feature-title">Listens</div>
                        <div class="feature-description">Always there to hear what matters most</div>
                    </div>
                </div>

                <div class="stat" style="background: linear-gradient(135deg, #667eea15 0%, #764ba215 100%); border-color: #667eea; margin-top: 40px;">
                    ⏰ Whether it's 2 PM or 2 AM, someone is always there to talk.
                </div>
            </div>
        </div>

        <div class="cta">
            <h2>Join Us in Fighting the Loneliness Epidemic</h2>
            <p>Because no one should feel alone in their golden years</p>
        </div>
    </div>
</body>
</html>

